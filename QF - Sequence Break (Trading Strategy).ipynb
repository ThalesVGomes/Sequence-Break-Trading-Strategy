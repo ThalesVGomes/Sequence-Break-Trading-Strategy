{
 "cells": [
  {
   "cell_type": "markdown",
   "id": "051e551b",
   "metadata": {},
   "source": [
    "##### Created by: https://github.com/ThalesVGomes"
   ]
  },
  {
   "cell_type": "markdown",
   "id": "cea618f8",
   "metadata": {},
   "source": [
    "# Quantitative Finance - Sequence Break (Trading Strategy)"
   ]
  },
  {
   "cell_type": "markdown",
   "id": "1bcf358f",
   "metadata": {},
   "source": [
    "#### Empirically we can observe that a long daily sequence of ups or downs in the stock market are quite rare.\n",
    "\n",
    "#### The objective of this study is to build a automatic system that exploits this point by finding stocks with a relatively long daily sequence of one direction movement (based on the stock historical data) and generate signals to assume the opposite position for the next day hoping we can profit with a reverse move.\n",
    "\n",
    "<img src=\"Sequence_Break_Example.png\" width=600 height=600 />\n",
    "\n",
    "#### We will analyse the historical prices of a stock, count the distribution of sequences formed in the past and its probabilities to happen then we will try to generate good signs to buy or sell the stock based on the current sequence of the stock.\n",
    "\n",
    "##### For example, if our model learned that a particular stock had only 1% chance of making a 6 streak movement (up or down) and our threshold (confidence) is bigger than 1%, we'll try to find a period when the same stock have a streak of 5 and we'll assume the opposite position. If it has a 5 streak of up movements, we will go short (sell) and if it has 5 streak of down we will go long (buy)"
   ]
  },
  {
   "cell_type": "markdown",
   "id": "24086629",
   "metadata": {},
   "source": [
    "#### Lets start by importing the external libraries that we will need to use to develop our study"
   ]
  },
  {
   "cell_type": "code",
   "execution_count": 1,
   "id": "37b9ac17",
   "metadata": {},
   "outputs": [],
   "source": [
    "import pandas as pd\n",
    "import numpy as np\n",
    "from pandas_datareader import DataReader\n",
    "from datetime import date"
   ]
  },
  {
   "cell_type": "markdown",
   "id": "c36ec0c4",
   "metadata": {},
   "source": [
    "# Defining our main funcions"
   ]
  },
  {
   "cell_type": "markdown",
   "id": "e4177374",
   "metadata": {},
   "source": [
    "#### Sometimes we will cross some missing sequence numbers. That means we could have in our past data a sequence that lasted for 8 days but not a sequence of 7.\n",
    "#### Theoretically, market sequences are random and each day have a 50% chance of going up or down, so they should approach a binomial distribution. In this case that for each day we have 50% of continuing the last day movement, the probability of making a 7 streak should be close to the probability of 6 streak divided by 2, so we'll use this approximation to input the missing data.\n",
    "### Disclamer: Of course that we are not assuming in this study that every asset follows a binomial distribution. If so, there will be no point counting the historical sequence points."
   ]
  },
  {
   "cell_type": "markdown",
   "id": "d610182e",
   "metadata": {},
   "source": [
    "### Function to create the sequence distribution of a given stock"
   ]
  },
  {
   "cell_type": "code",
   "execution_count": 2,
   "id": "b4f2e4c8",
   "metadata": {},
   "outputs": [],
   "source": [
    "def get_sequence_distribution(ticker, start, end=date.today()):\n",
    "    \n",
    "    \"\"\"\n",
    "    Given a ticker, a start date and an end date\n",
    "    takes the adjusted closing data (avoids distortions) and counts\n",
    "    how many high/low sequences the ticker had.\n",
    "    \n",
    "    Returns a dictionary with the sequence distribution of the ticker\n",
    "    in the given time period and the current state\n",
    "    of the sequence.\n",
    "    ----------------------------------------------------------------\n",
    "    Example of usage:\n",
    "    \n",
    "    seq_dist, curr_seq = get_sequence_distribution(ticker='GOLL4.SA', start='01-01-2020', end='01-01-2021')\n",
    "    \n",
    "    seq_dist ->  {1: 0.515, 2: 0.262, 3: 0.108, 4: 0.054, 5: 0.054, 6: 0.008}\n",
    "                51.5% of the sequences are composed by one movement (1 up or 1 down) and so on.\n",
    "\n",
    "    curr_seq -> 2\n",
    "                   Means that in the end date (01-01-2021) the sequence of movements\n",
    "                   in the same direction is equal to 2.\n",
    "    \n",
    "    \"\"\"\n",
    "    \n",
    "    global data # For backtesting purposes\n",
    "    \n",
    "    data = None\n",
    "    \n",
    "    try:\n",
    "        data = DataReader(ticker,'yahoo', start, end)['Adj Close'].to_frame()\n",
    "    except:\n",
    "        print(f'No data found for: {ticker}')\n",
    "        data = None\n",
    "        return\n",
    "    \n",
    "    data['Returns'] = data['Adj Close'].pct_change()\n",
    "    data.dropna(inplace=True)\n",
    "    \n",
    "    data['Direction'] = np.where(data['Returns'] > 0, 1, -1 ) # 1 for up and -1 for down\n",
    "    \n",
    "    data = data.drop_duplicates(subset=['Adj Close', 'Returns', 'Direction']) \n",
    "    # Sometimes there are no tradings and some days keep repeating the same closing value\n",
    "    \n",
    "    n_rows = data.shape[0] # number of rows in the dataframe\n",
    "    \n",
    "    sequences = np.array([], dtype='int8') # Where the sequences will be stored\n",
    "    streak = 1\n",
    "    \n",
    "    for day in range(1, n_rows):\n",
    "        if data['Direction'][day] == data['Direction'][day-1]: # If the current movement is equal to the last\n",
    "            streak += 1\n",
    "        else:\n",
    "            sequences = np.append(sequences, streak)\n",
    "            streak = 1    \n",
    "    sequences = np.append(sequences, streak) # Append the last sequence\n",
    "    current_sequence = sequences[-1]\n",
    "    \n",
    "    # Creates the sequence distribution\n",
    "    idx, counts = np.unique(sequences, return_counts=True)\n",
    "\n",
    "    # Adjust for missing sequence\n",
    "    aux = dict(zip(idx, counts))\n",
    "    for i in range(1, idx.max()):\n",
    "        if i not in idx:\n",
    "            aux[i] = int(np.ceil(aux[i-1] / 2))\n",
    "    aux = dict(sorted(aux.items()))\n",
    "    idx = np.fromiter(aux.keys(), dtype='int8')\n",
    "    counts = np.fromiter(aux.values(), dtype='int16')\n",
    "    \n",
    "    normalized_counts = counts / counts.sum()\n",
    "    sequence_distribution = dict(zip(idx, normalized_counts))\n",
    "    return sequence_distribution, current_sequence"
   ]
  },
  {
   "cell_type": "markdown",
   "id": "57b48f34",
   "metadata": {},
   "source": [
    "### Probability of the movement to keep following the trend"
   ]
  },
  {
   "cell_type": "code",
   "execution_count": 3,
   "id": "cbd3f668",
   "metadata": {},
   "outputs": [],
   "source": [
    "def continue_seq_prob(sequence_distribution, current_sequence):\n",
    "    \"\"\"\n",
    "    Based on the learned sequence distribution,\n",
    "    gives the probability of the current sequence\n",
    "    to continue its movement one day ahead.\n",
    "    \n",
    "    For example, if our current sequence is equal to 5,\n",
    "    gives us the probability of a sequence equal to 6 happening\n",
    "    based on the historical data of the given asset.\n",
    "    \"\"\"\n",
    "\n",
    "    probabilities = np.fromiter(sequence_distribution.values(), dtype=np.float16)\n",
    "    probabilities = probabilities[::-1]\n",
    "    summed_probabilities = np.cumsum(probabilities)\n",
    "    \n",
    "    try:\n",
    "        current_probability = summed_probabilities[-current_sequence-1]\n",
    "    except IndexError:\n",
    "        current_probability = 0 # If it's the first time that such a long sequence happens\n",
    "    except:\n",
    "        pass\n",
    "    \n",
    "    return current_probability, summed_probabilities"
   ]
  },
  {
   "cell_type": "markdown",
   "id": "f58066f7",
   "metadata": {},
   "source": [
    "### Finds stocks in a list of stocks that are currently (based on the end date) in a large sequence of movements in the same direction and have a probability higher than the confidence of breaking the streak."
   ]
  },
  {
   "cell_type": "code",
   "execution_count": 4,
   "id": "48e7ed84",
   "metadata": {},
   "outputs": [],
   "source": [
    "def run_program(tickers, start, end=date.today(), confidence=0.95, verbose=True):\n",
    "    \"\"\"Runs the complete algorithm in a list of tickers\n",
    "    and returns the tickers with a chance higher\n",
    "    than the confidence level of breaking\n",
    "    the sequence for the next trading day after the end date\"\"\"\n",
    "    \n",
    "    threshold = 1 - confidence\n",
    "    if isinstance(tickers, str) or not hasattr(tickers, '__iter__'):\n",
    "        print(f\"\"\"Error: Tickers should be an iterable!\n",
    "        Current tickers type: {type(tickers)}\"\"\")\n",
    "        return\n",
    "    \n",
    "    results = {}\n",
    "    for ticker in tickers:\n",
    "        \n",
    "        if verbose:\n",
    "            print(f'Analysing {ticker}...')\n",
    "                \n",
    "        try:   \n",
    "            sequences_count, current_sequence = get_sequence_distribution(ticker, start)\n",
    "            probability, _ = continue_seq_prob(sequences_count, current_sequence)\n",
    "            if probability < threshold:\n",
    "                results[ticker] = '{:.2f}%'.format(probability*100)\n",
    "            \n",
    "        except Exception as error:\n",
    "#             if verbose:\n",
    "#                 print(f'Error in: {ticker}. Error code: {error}') # Pollute code\n",
    "            pass\n",
    "    if results:\n",
    "        return results\n",
    "    else:\n",
    "        print()\n",
    "        print('There are no stocks with a high sequence for the current end date.')\n",
    "        print('Try using another stocks or decrease the confidence level.')"
   ]
  },
  {
   "cell_type": "markdown",
   "id": "8ba89fd9",
   "metadata": {},
   "source": [
    "## Example of the program in action:"
   ]
  },
  {
   "cell_type": "markdown",
   "id": "0842800c",
   "metadata": {},
   "source": [
    "#### List of brazillian stocks ticker (based on the name at Yahoo Finance - https://finance.yahoo.com/)"
   ]
  },
  {
   "cell_type": "code",
   "execution_count": 6,
   "id": "e6747843",
   "metadata": {},
   "outputs": [],
   "source": [
    "tickers_small = ['AALR3.SA','AERI3.SA','AGRO3.SA','ALSO3.SA','ALUP11.SA','AMAR3.SA',\n",
    " 'AMBP3.SA','ANIM3.SA','ARZZ3.SA','AZUL4.SA','BEEF3.SA','BKBR3.SA','BMGB4.SA',\n",
    " 'BRPR3.SA','BRSR6.SA','CAML3.SA','CEAB3.SA','CESP6.SA','CIEL3.SA','CSMG3.SA',\n",
    " 'CYRE3.SA','DIRR3.SA','DTEX3.SA','ECOR3.SA','ENBR3.SA','EVEN3.SA','FESA4.SA',\n",
    " 'GOAU4.SA','GOLL4.SA','GUAR3.SA','HBOR3.SA','HBSA3.SA','HGTX3.SA','IGTA3.SA',\n",
    " 'JPSA3.SA','LCAM3.SA','LEVE3.SA','LINX3.SA','LJQQ3.SA','LOGG3.SA','LOGN3.SA',\n",
    " 'MEAL3.SA','MILS3.SA','MOVI3.SA','MTRE3.SA','MULT3.SA','MYPK3.SA','ODPV3.SA',\n",
    " 'PETZ3.SA','PNVL3.SA','POMO4.SA','POSI3.SA','PTBL3.SA','QUAL3.SA','RAPT4.SA',\n",
    " 'RRRP3.SA','SAPR11.SA','SAPR4.SA','SBFG3.SA','SEER3.SA','SEQL3.SA','SIMH3.SA',\n",
    " 'SMLS3.SA','SOMA3.SA','SQIA3.SA','TASA4.SA','TEND3.SA','TGMA3.SA','TRIS3.SA',\n",
    " 'TUPY3.SA','UNIP6.SA','VIVA3.SA','VLID3.SA','VULC3.SA','WIZS3.SA']"
   ]
  },
  {
   "cell_type": "code",
   "execution_count": 7,
   "id": "1a8f1238",
   "metadata": {},
   "outputs": [],
   "source": [
    "tickers_ibov = ['ABEV3.SA','AZUL4.SA','B3SA3.SA','BBAS3.SA','BBDC3.SA','BBDC4.SA','BBSE3.SA',\n",
    " 'BEEF3.SA','BPAC11.SA','BRAP4.SA','BRDT3.SA','BRFS3.SA','BRKM5.SA','BRML3.SA','BTOW3.SA',\n",
    " 'CCRO3.SA','CIEL3.SA','CMIG4.SA','COGN3.SA','CPFE3.SA','CRFB3.SA','CSAN3.SA','CSNA3.SA',\n",
    " 'CVCB3.SA','CYRE3.SA','ECOR3.SA','EGIE3.SA','ELET3.SA','ELET6.SA','EMBR3.SA','ENBR3.SA',\n",
    " 'ENGI11.SA','EQTL3.SA','FLRY3.SA','GGBR4.SA','GNDI3.SA','GOAU4.SA','GOLL4.SA','HAPV3.SA',\n",
    " 'HGTX3.SA','HYPE3.SA','IGTA3.SA','IRBR3.SA','ITSA4.SA','ITUB4.SA','JBSS3.SA','KLBN11.SA',\n",
    " 'LAME4.SA','LREN3.SA','MGLU3.SA','MRFG3.SA','MRVE3.SA','MULT3.SA','NTCO3.SA','PCAR3.SA',\n",
    " 'PETR3.SA','PETR4.SA','QUAL3.SA','RADL3.SA','RAIL3.SA','RENT3.SA','SANB11.SA','SBSP3.SA',\n",
    " 'SULA11.SA','SUZB3.SA','TAEE11.SA','TIMP3.SA','TOTS3.SA','UGPA3.SA','USIM5.SA','VALE3.SA',\n",
    " 'VIVT4.SA','VVAR3.SA','WEGE3.SA','YDUQ3.SA']"
   ]
  },
  {
   "cell_type": "code",
   "execution_count": 8,
   "id": "57679420",
   "metadata": {},
   "outputs": [],
   "source": [
    "tickers = tickers_ibov + tickers_small\n",
    "tickers = list(set(tickers)) # Remove duplicates"
   ]
  },
  {
   "cell_type": "markdown",
   "id": "34231f9f",
   "metadata": {},
   "source": [
    "### Test with a small sample of tickers to go faster"
   ]
  },
  {
   "cell_type": "code",
   "execution_count": 9,
   "id": "e43f18de",
   "metadata": {},
   "outputs": [],
   "source": [
    "import random\n",
    "random.seed(42)\n",
    "random_tickers = random.sample(tickers, 15)"
   ]
  },
  {
   "cell_type": "code",
   "execution_count": 10,
   "id": "a6fb6aae",
   "metadata": {},
   "outputs": [
    {
     "name": "stdout",
     "output_type": "stream",
     "text": [
      "Analysing MOVI3.SA...\n",
      "Analysing LREN3.SA...\n",
      "Analysing ENBR3.SA...\n",
      "Analysing RENT3.SA...\n",
      "Analysing SULA11.SA...\n",
      "Analysing TASA4.SA...\n",
      "Analysing CSMG3.SA...\n",
      "Analysing GNDI3.SA...\n",
      "Analysing PETZ3.SA...\n",
      "Analysing CIEL3.SA...\n",
      "Analysing BBSE3.SA...\n",
      "Analysing BPAC11.SA...\n",
      "Analysing SBSP3.SA...\n",
      "Analysing BMGB4.SA...\n",
      "Analysing TGMA3.SA...\n"
     ]
    },
    {
     "data": {
      "text/plain": [
       "{'MOVI3.SA': '9.01%',\n",
       " 'RENT3.SA': '4.22%',\n",
       " 'GNDI3.SA': '4.00%',\n",
       " 'PETZ3.SA': '5.34%',\n",
       " 'SBSP3.SA': '2.51%'}"
      ]
     },
     "execution_count": 10,
     "metadata": {},
     "output_type": "execute_result"
    }
   ],
   "source": [
    "run_program(random_tickers, start='01-01-2020', end=date.today(), confidence=0.9, verbose=True)"
   ]
  },
  {
   "cell_type": "markdown",
   "id": "567543a1",
   "metadata": {},
   "source": [
    "#### Based on the result above, we should assume the opposite position on each stock with a probability p of losing money."
   ]
  },
  {
   "cell_type": "markdown",
   "id": "0f061b94",
   "metadata": {},
   "source": [
    "# *Backtesting* - The most important part"
   ]
  },
  {
   "cell_type": "markdown",
   "id": "be5061ce",
   "metadata": {},
   "source": [
    "### Now that our strategy is fully working we will try to simulate our returns if this same strategy was applied in the past"
   ]
  },
  {
   "cell_type": "markdown",
   "id": "1e230220",
   "metadata": {},
   "source": [
    "### The first and most import thing to do is to select a time period to serve as train data where our model will learn the sequence distributions and a test data where our model will try to operate based on the learned distributions"
   ]
  },
  {
   "cell_type": "code",
   "execution_count": 11,
   "id": "84ff5574",
   "metadata": {},
   "outputs": [],
   "source": [
    "def backtest(tickers, start_train, end_train, start_test, end_test, confidence=0.95):\n",
    "    \n",
    "    threshold = 1 - confidence\n",
    "    total_returns = []\n",
    "    \n",
    "    for ticker in tickers:\n",
    "        try:\n",
    "            # Learns the sequences distribution with the train data\n",
    "            sequence_distribution, current_sequence = get_sequence_distribution(ticker=ticker,\n",
    "                                                                                start=start_train, end=end_train)\n",
    "\n",
    "            _, summed_probabilities = continue_seq_prob(sequence_distribution, current_sequence)\n",
    "            seq_threshold = (len(summed_probabilities) - np.where(summed_probabilities < threshold)[0])\n",
    "\n",
    "            seq_break = seq_threshold[-1] # This is the first streak with a probability lower than our threshold\n",
    "            seq_break -= 1 # So we'll buy in the previous day hoping for a break in the streak\n",
    "        except:\n",
    "            continue\n",
    "\n",
    "        # Apply the strategy in the test data based on the learned distribuitions \n",
    "        get_sequence_distribution(ticker=ticker, start=start_test, end=end_test)\n",
    "        data[f'Sign{seq_break}'] = data['Direction'].rolling(window=seq_break).sum()\n",
    "        data['Trade'] = data[f'Sign{seq_break}'].shift()\n",
    "        \n",
    "        buy_profit = data[data['Trade'] == -seq_break]['Returns'].sum()\n",
    "        \n",
    "        # In a short position you earn when the market goes down\n",
    "        sell_profit = (data[data['Trade'] == seq_break]['Returns'] * -1).sum()\n",
    "        \n",
    "        total = buy_profit + sell_profit\n",
    "        \n",
    "        print(f'{ticker} Return = {round(total * 100, 2)}%')\n",
    "        total_returns.append(total)\n",
    "        \n",
    "    return f'Total Return = {round(sum(total_returns) * 100, 2)}%'"
   ]
  },
  {
   "cell_type": "code",
   "execution_count": 14,
   "id": "1307a541",
   "metadata": {},
   "outputs": [],
   "source": [
    "random_tickers = random.sample(tickers, 60)"
   ]
  },
  {
   "cell_type": "code",
   "execution_count": 16,
   "id": "8c732cbd",
   "metadata": {},
   "outputs": [
    {
     "name": "stdout",
     "output_type": "stream",
     "text": [
      "TAEE11.SA Return = -6.95%\n",
      "DIRR3.SA Return = 17.83%\n",
      "BBAS3.SA Return = -6.57%\n",
      "ECOR3.SA Return = 11.06%\n",
      "No data found for: TIMP3.SA\n",
      "MILS3.SA Return = -0.38%\n",
      "No data found for: HBSA3.SA\n",
      "No data found for: LINX3.SA\n",
      "POMO4.SA Return = -7.23%\n",
      "KLBN11.SA Return = 8.13%\n",
      "ENGI11.SA Return = 5.06%\n",
      "PETR3.SA Return = -12.74%\n",
      "WIZS3.SA Return = -21.78%\n",
      "No data found for: VIVT4.SA\n",
      "AZUL4.SA Return = -2.32%\n",
      "CVCB3.SA Return = 44.95%\n",
      "TASA4.SA Return = -28.75%\n",
      "TGMA3.SA Return = 0.03%\n",
      "BRFS3.SA Return = -1.05%\n",
      "ODPV3.SA Return = 25.73%\n",
      "JBSS3.SA Return = -13.59%\n",
      "BRAP4.SA Return = 2.7%\n",
      "TOTS3.SA Return = 7.07%\n",
      "No data found for: BTOW3.SA\n",
      "CSMG3.SA Return = -4.26%\n",
      "GOAU4.SA Return = 13.55%\n",
      "VULC3.SA Return = -3.41%\n",
      "TEND3.SA Return = 12.11%\n",
      "CESP6.SA Return = 4.62%\n",
      "ALSO3.SA Return = 20.95%\n",
      "No data found for: SMLS3.SA\n",
      "ITSA4.SA Return = -0.95%\n",
      "GGBR4.SA Return = 7.47%\n",
      "No data found for: AERI3.SA\n",
      "LEVE3.SA Return = 8.65%\n",
      "USIM5.SA Return = -40.8%\n",
      "HGTX3.SA Return = -13.39%\n",
      "PETR4.SA Return = 8.9%\n",
      "No data found for: SIMH3.SA\n",
      "CPFE3.SA Return = -3.32%\n",
      "UGPA3.SA Return = 4.51%\n",
      "UNIP6.SA Return = -25.41%\n",
      "SBFG3.SA Return = 2.44%\n",
      "MOVI3.SA Return = 9.29%\n",
      "CMIG4.SA Return = -5.6%\n",
      "FLRY3.SA Return = 5.39%\n",
      "BBSE3.SA Return = 8.73%\n",
      "COGN3.SA Return = 11.83%\n",
      "ABEV3.SA Return = -4.24%\n",
      "EQTL3.SA Return = 2.28%\n",
      "BRDT3.SA Return = 11.89%\n",
      "VIVA3.SA Return = 11.2%\n",
      "CIEL3.SA Return = 26.69%\n",
      "ARZZ3.SA Return = 9.04%\n",
      "JPSA3.SA Return = 31.26%\n",
      "TUPY3.SA Return = 15.43%\n",
      "RAIL3.SA Return = 4.22%\n",
      "No data found for: SOMA3.SA\n",
      "MRFG3.SA Return = -11.73%\n"
     ]
    },
    {
     "data": {
      "text/plain": [
       "'Total Return = 138.56%'"
      ]
     },
     "execution_count": 16,
     "metadata": {},
     "output_type": "execute_result"
    }
   ],
   "source": [
    "backtest(tickers=random_tickers, start_train='01-01-2015', end_train='01-01-2020',\n",
    "         start_test='02-01-2020', end_test='15-10-2021', confidence=0.95)"
   ]
  },
  {
   "cell_type": "markdown",
   "id": "a163d7b9",
   "metadata": {},
   "source": [
    "### Our sample portfolio backtesting was quite promising and gave us a really good return. It's possible to use the sequence break sign as an input to compose another more sofisticated model."
   ]
  }
 ],
 "metadata": {
  "kernelspec": {
   "display_name": "Python 3 (ipykernel)",
   "language": "python",
   "name": "python3"
  },
  "language_info": {
   "codemirror_mode": {
    "name": "ipython",
    "version": 3
   },
   "file_extension": ".py",
   "mimetype": "text/x-python",
   "name": "python",
   "nbconvert_exporter": "python",
   "pygments_lexer": "ipython3",
   "version": "3.9.7"
  }
 },
 "nbformat": 4,
 "nbformat_minor": 5
}
