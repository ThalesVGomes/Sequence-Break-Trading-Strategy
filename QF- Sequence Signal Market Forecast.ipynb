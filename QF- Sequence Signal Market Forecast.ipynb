{
 "cells": [
  {
   "cell_type": "markdown",
   "id": "051e551b",
   "metadata": {},
   "source": [
    "##### All the code was written by Thales V. Gomes and it is available at: https://github.com/ThalesVGomes"
   ]
  },
  {
   "cell_type": "markdown",
   "id": "cea618f8",
   "metadata": {},
   "source": [
    "# Quantitative Finance - Sequence Signal Market Forecast"
   ]
  },
  {
   "cell_type": "markdown",
   "id": "1bcf358f",
   "metadata": {},
   "source": [
    "#### The object of this study is to try to find some signals of operation based on the sequences of movements of financial assets negotiated on stock markets.\n",
    "\n",
    "#### We will analyse the historical prices of a stock, count the distribution of sequences formed in the past and its probabilities to happen. Then we will try to generate good signs to buy or sell the stock based on the current sequence of the stock.\n",
    "\n",
    "##### For example, if our model learned that a particular stock have only 1% chance of making a 6 streak movement (up or down) and our threshold is bigger than 1%, we will find a period when the stock have a streak of 5 and assume the oposite position. If it has a 5 streak of up movements, we will go short (sell) and if it has 5 streak of down we will go long (buy)"
   ]
  },
  {
   "cell_type": "markdown",
   "id": "d395a96d",
   "metadata": {},
   "source": [
    "### If the market sequences are pure random, they need to follow a binomial distribution (50% chance of going up and 50% of going down) just like tossing a coin."
   ]
  },
  {
   "cell_type": "markdown",
   "id": "24086629",
   "metadata": {},
   "source": [
    "#### Lets start by importing the external libraries that we will need to use to develop our study"
   ]
  },
  {
   "cell_type": "code",
   "execution_count": 172,
   "id": "37b9ac17",
   "metadata": {},
   "outputs": [],
   "source": [
    "import pandas as pd\n",
    "import numpy as np\n",
    "from pandas_datareader import DataReader\n",
    "from pandas_datareader._utils import RemoteDataError\n",
    "from datetime import date"
   ]
  },
  {
   "cell_type": "markdown",
   "id": "c36ec0c4",
   "metadata": {},
   "source": [
    "# Defining our main funcions"
   ]
  },
  {
   "cell_type": "markdown",
   "id": "e4177374",
   "metadata": {},
   "source": [
    "### Sometimes we will cross some missing number distributions. That means we could have in our past data a sequence that last 8 days but not a sequence of 7. With the function adjust_sequence we will solve this problem inputing the missing values of the sequence based on an adjusted formula of the sequence distribution with the binomial distribution"
   ]
  },
  {
   "cell_type": "code",
   "execution_count": 205,
   "id": "cd1218f2",
   "metadata": {},
   "outputs": [],
   "source": [
    "def adjust_sequence(sequence_distribution):\n",
    "    \"\"\"\n",
    "    Receives dictionary containing a sequence distribution\n",
    "    and adjust it to have all the numbers between 1 and\n",
    "    the highest number adding to the missing number \n",
    "    the probability of the previous number.\n",
    "    ----------------------------------------------------\n",
    "    For example:\n",
    "        A sequence distribution might jump some numbers\n",
    "        having sequences of 5 and 7, but not sequences of 6.\n",
    "\n",
    "        With the adjust, it creates a sequence of 6 with the same\n",
    "        probability as the sequence of 5.\n",
    "    \n",
    "    \"\"\"\n",
    "    adjusted_sequence = sequence_distribution.copy()\n",
    "    real_sequences = list(sequence_distribution)\n",
    "    real_probabilities = list(sequence_distribution.values())\n",
    "\n",
    "    highest_sequence = real_sequences[-1]\n",
    "\n",
    "    ideal_sequences = list(range(1,highest_sequence+1))\n",
    "\n",
    "    if real_sequences != ideal_sequences:\n",
    "        for seq in list(range(1,highest_sequence+1)):\n",
    "            if seq not in list(adjusted_sequence.keys()):\n",
    "                prob = list(adjusted_sequence.values())[seq-2]\n",
    "                \n",
    "                # In a binomial distribution the next value is always equal to half of the previous one\n",
    "                # Based on it, we will make the next value of the sequence distribution follows the binomial rule\n",
    "                adjusted_sequence[seq] = prob / 2 \n",
    "                adjusted_sequence = dict(sorted(adjusted_sequence.items()))\n",
    "\n",
    "    adjusted_sequence = dict(sorted(adjusted_sequence.items()))\n",
    "    \n",
    "    return adjusted_sequence"
   ]
  },
  {
   "cell_type": "markdown",
   "id": "d610182e",
   "metadata": {},
   "source": [
    "### Function to create the sequence distribution of a given stock"
   ]
  },
  {
   "cell_type": "code",
   "execution_count": 206,
   "id": "b4f2e4c8",
   "metadata": {},
   "outputs": [],
   "source": [
    "def get_sequence_distribution(ticker, start, end=date.today()):\n",
    "    \n",
    "    \"\"\"\n",
    "    Given a ticker, a start date and an end date\n",
    "    takes the adjusted closing data (avoids distortions) and counts\n",
    "    how many high/low sequences the ticker had.\n",
    "    \n",
    "    Returns a dictionary with the sequence distribution of the ticker\n",
    "    in the given time period and the current state\n",
    "    of the sequence.\n",
    "    ----------------------------------------------------------------\n",
    "    Example of usage:\n",
    "    \n",
    "    seq_dist, curr_seq = get_sequence_distribution(ticker='GOLL4.SA', start='01-01-2020', end='01-01-2021')\n",
    "    \n",
    "    seq_dist ->  {1: 0.515, 2: 0.262, 3: 0.108, 4: 0.054, 5: 0.054, 6: 0.008}\n",
    "                51.5% of the sequences are composed by one movement (1 up or 1 down) and so on.\n",
    "\n",
    "    curr_seq -> 2\n",
    "                   Means that in the end date (01-01-2021) the sequence of movements\n",
    "                   in the same direction is equal to 2.\n",
    "    \n",
    "    \"\"\"\n",
    "    \n",
    "    global data # For backtesting purposes\n",
    "    \n",
    "    data = None\n",
    "    \n",
    "    try:\n",
    "        data = DataReader(ticker,'yahoo', start, end)['Adj Close'].to_frame()\n",
    "    except RemoteDataError:\n",
    "        print(f'No data found for: {ticker}')\n",
    "        \n",
    "    data['Returns'] = data['Adj Close'].pct_change()\n",
    "    data.dropna(inplace=True)\n",
    "    \n",
    "    data['Direction'] = data['Returns'].apply(lambda x: 1 if x > 0 else -1) # 1 for up and -1 for down\n",
    "    \n",
    "    data = data.drop_duplicates(subset=['Adj Close', 'Returns', 'Direction']) \n",
    "    # Sometimes there are no tradings and some days keep repeating the same closing value\n",
    "    \n",
    "    n_rows = data['Direction'].shape[0] # number of rows in the dataframe\n",
    "    \n",
    "    sequences = np.array([], dtype='int8') # Where the sequences will be stored\n",
    "    streak = 1\n",
    "    \n",
    "    for day in range(1, n_rows):\n",
    "        if data['Direction'][day] == data['Direction'][day-1]: # If the current movement is equal to the last\n",
    "            streak += 1\n",
    "        else:\n",
    "            sequences = np.append(sequences, streak)\n",
    "            streak = 1    \n",
    "    sequences = np.append(sequences, streak) # Append the last sequence\n",
    "    \n",
    "    current_sequence = sequences[-1]\n",
    "    \n",
    "    # Creates the sequence distribution\n",
    "    unique, counts = np.unique(sequences, return_counts=True) \n",
    "    total_sequences = counts.sum()\n",
    "    normalized_counts = np.round(counts / total_sequences, decimals=3)\n",
    "    sequence_distribution = dict(zip(unique, normalized_counts))\n",
    "    sequence_distribution = adjust_sequence(sequence_distribution)\n",
    "    \n",
    "    return sequence_distribution, current_sequence"
   ]
  },
  {
   "cell_type": "markdown",
   "id": "57b48f34",
   "metadata": {},
   "source": [
    "### Probability of the movement to keep following the trend"
   ]
  },
  {
   "cell_type": "code",
   "execution_count": 207,
   "id": "cbd3f668",
   "metadata": {},
   "outputs": [],
   "source": [
    "def continue_seq_prob(sequence_distribution, current_sequence):\n",
    "    \"\"\"\n",
    "    Based on the learned sequence distribution,\n",
    "    gives the probability of the current sequence\n",
    "    to continue its movement one day ahead.\n",
    "    \n",
    "    For example, if our current sequence is equal to 5,\n",
    "    gives us the probability of a sequence equal to 6 happening\n",
    "    based on the historical data of the given asset.\n",
    "    \"\"\"\n",
    "\n",
    "    \n",
    "    probabilities = np.fromiter(sequence_distribution.values(), dtype=np.float16)\n",
    "    probabilities = probabilities[::-1]\n",
    "    summed_probabilities = np.cumsum(probabilities)\n",
    "    \n",
    "    try:\n",
    "        current_probability = summed_probabilities[-current_sequence]\n",
    "    except IndexError:\n",
    "        current_probability = 0 # If its the first time that such a long sequence happens\n",
    "    except:\n",
    "        pass\n",
    "    \n",
    "    return current_probability, summed_probabilities"
   ]
  },
  {
   "cell_type": "code",
   "execution_count": 235,
   "id": "616e1814",
   "metadata": {},
   "outputs": [],
   "source": [
    "def investment_sign(probability, threshold):\n",
    "    if probability <= threshold:\n",
    "        return round(probability, 4)\n",
    "    return 0"
   ]
  },
  {
   "cell_type": "markdown",
   "id": "f58066f7",
   "metadata": {},
   "source": [
    "### Runs the signals for a list of stocks and return the stocks that are currently (based on the end date) in a large sequence of movements in the same direction and have a probability smaller than the threshold to continue the movement."
   ]
  },
  {
   "cell_type": "code",
   "execution_count": 236,
   "id": "e851fd86",
   "metadata": {},
   "outputs": [],
   "source": [
    "def run_program(tickers, start, end=date.today(), threshold=0.05, verbose=True):\n",
    "    \"\"\"Runs the complete algorithm in a list of tickers\n",
    "    and returns the tickers with a high chance of breaking\n",
    "    the sequence streak\"\"\"\n",
    "    \n",
    "    results = {}\n",
    "    for ticker in tickers:\n",
    "        try:\n",
    "            if verbose:\n",
    "                print(f'Analysing {ticker}...')\n",
    "            sequences_count, current_sequence = get_sequence_distribution(ticker, start)\n",
    "            probability, _ = continue_seq_prob(sequences_count, current_sequence)\n",
    "            sign = investment_sign(probability, threshold=threshold)\n",
    "            results[ticker] = sign\n",
    "        except Exception as error:\n",
    "            if verbose:\n",
    "                print(f'Error in: {ticker}. Error code: {error}')\n",
    "            pass\n",
    "        \n",
    "    positive_results = {ticker: probability for ticker, probability in results.items() if probability > 0}\n",
    "    positive_results = dict(sorted(positive_results.items(), key=lambda item: item[1]))\n",
    "\n",
    "    return positive_results"
   ]
  },
  {
   "cell_type": "markdown",
   "id": "0842800c",
   "metadata": {},
   "source": [
    "## List of brazillian stocks ticker (based on the name at Yahoo Finance - https://finance.yahoo.com/)"
   ]
  },
  {
   "cell_type": "code",
   "execution_count": 222,
   "id": "e6747843",
   "metadata": {},
   "outputs": [],
   "source": [
    "tickers_small = ['AALR3.SA','AERI3.SA','AGRO3.SA','ALSO3.SA','ALUP11.SA','AMAR3.SA',\n",
    " 'AMBP3.SA','ANIM3.SA','ARZZ3.SA','AZUL4.SA','BEEF3.SA','BKBR3.SA','BMGB4.SA',\n",
    " 'BRPR3.SA','BRSR6.SA','CAML3.SA','CEAB3.SA','CESP6.SA','CIEL3.SA','CSMG3.SA',\n",
    " 'CYRE3.SA','DIRR3.SA','DTEX3.SA','ECOR3.SA','ENBR3.SA','EVEN3.SA','FESA4.SA',\n",
    " 'GOAU4.SA','GOLL4.SA','GUAR3.SA','HBOR3.SA','HBSA3.SA','HGTX3.SA','IGTA3.SA',\n",
    " 'JPSA3.SA','LCAM3.SA','LEVE3.SA','LINX3.SA','LJQQ3.SA','LOGG3.SA','LOGN3.SA',\n",
    " 'MEAL3.SA','MILS3.SA','MOVI3.SA','MTRE3.SA','MULT3.SA','MYPK3.SA','ODPV3.SA',\n",
    " 'PETZ3.SA','PNVL3.SA','POMO4.SA','POSI3.SA','PTBL3.SA','QUAL3.SA','RAPT4.SA',\n",
    " 'RRRP3.SA','SAPR11.SA','SAPR4.SA','SBFG3.SA','SEER3.SA','SEQL3.SA','SIMH3.SA',\n",
    " 'SMLS3.SA','SOMA3.SA','SQIA3.SA','TASA4.SA','TEND3.SA','TGMA3.SA','TRIS3.SA',\n",
    " 'TUPY3.SA','UNIP6.SA','VIVA3.SA','VLID3.SA','VULC3.SA','WIZS3.SA']"
   ]
  },
  {
   "cell_type": "code",
   "execution_count": 223,
   "id": "1a8f1238",
   "metadata": {},
   "outputs": [],
   "source": [
    "tickers_ibov = ['ABEV3.SA','AZUL4.SA','B3SA3.SA','BBAS3.SA','BBDC3.SA','BBDC4.SA','BBSE3.SA',\n",
    " 'BEEF3.SA','BPAC11.SA','BRAP4.SA','BRDT3.SA','BRFS3.SA','BRKM5.SA','BRML3.SA','BTOW3.SA',\n",
    " 'CCRO3.SA','CIEL3.SA','CMIG4.SA','COGN3.SA','CPFE3.SA','CRFB3.SA','CSAN3.SA','CSNA3.SA',\n",
    " 'CVCB3.SA','CYRE3.SA','ECOR3.SA','EGIE3.SA','ELET3.SA','ELET6.SA','EMBR3.SA','ENBR3.SA',\n",
    " 'ENGI11.SA','EQTL3.SA','FLRY3.SA','GGBR4.SA','GNDI3.SA','GOAU4.SA','GOLL4.SA','HAPV3.SA',\n",
    " 'HGTX3.SA','HYPE3.SA','IGTA3.SA','IRBR3.SA','ITSA4.SA','ITUB4.SA','JBSS3.SA','KLBN11.SA',\n",
    " 'LAME4.SA','LREN3.SA','MGLU3.SA','MRFG3.SA','MRVE3.SA','MULT3.SA','NTCO3.SA','PCAR3.SA',\n",
    " 'PETR3.SA','PETR4.SA','QUAL3.SA','RADL3.SA','RAIL3.SA','RENT3.SA','SANB11.SA','SBSP3.SA',\n",
    " 'SULA11.SA','SUZB3.SA','TAEE11.SA','TIMP3.SA','TOTS3.SA','UGPA3.SA','USIM5.SA','VALE3.SA',\n",
    " 'VIVT4.SA','VVAR3.SA','WEGE3.SA','YDUQ3.SA']"
   ]
  },
  {
   "cell_type": "code",
   "execution_count": 224,
   "id": "57679420",
   "metadata": {},
   "outputs": [],
   "source": [
    "tickers = tickers_ibov + tickers_small\n",
    "tickers = set(tickers) # Remove duplicates"
   ]
  },
  {
   "cell_type": "markdown",
   "id": "34231f9f",
   "metadata": {},
   "source": [
    "### Test with a small sample of tickers to go faster"
   ]
  },
  {
   "cell_type": "code",
   "execution_count": 233,
   "id": "e43f18de",
   "metadata": {},
   "outputs": [],
   "source": [
    "import random\n",
    "random.seed(1)\n",
    "random_tickers = random.sample(tickers, 10)"
   ]
  },
  {
   "cell_type": "code",
   "execution_count": 237,
   "id": "a6fb6aae",
   "metadata": {},
   "outputs": [
    {
     "name": "stdout",
     "output_type": "stream",
     "text": [
      "Analysing LINX3.SA...\n",
      "Analysing MULT3.SA...\n",
      "Analysing EQTL3.SA...\n",
      "Analysing GGBR4.SA...\n",
      "Analysing MYPK3.SA...\n",
      "Analysing TEND3.SA...\n",
      "Analysing VIVA3.SA...\n",
      "Analysing YDUQ3.SA...\n",
      "Analysing TOTS3.SA...\n",
      "Analysing HYPE3.SA...\n"
     ]
    },
    {
     "data": {
      "text/plain": [
       "{'HYPE3.SA': 0.025}"
      ]
     },
     "execution_count": 237,
     "metadata": {},
     "output_type": "execute_result"
    }
   ],
   "source": [
    "run_program(random_tickers, start='01-01-2019', end=date.today(), threshold=0.05, verbose=True)"
   ]
  },
  {
   "cell_type": "markdown",
   "id": "567543a1",
   "metadata": {},
   "source": [
    "### Based on the result above, we should assume the oposite movement position on HYPE3.SA stock with a chance of 2.5% of going wrong."
   ]
  },
  {
   "cell_type": "markdown",
   "id": "0f061b94",
   "metadata": {},
   "source": [
    "# *Backtesting* - The most important part"
   ]
  },
  {
   "cell_type": "markdown",
   "id": "be5061ce",
   "metadata": {},
   "source": [
    "## Now that our strategy is fully working we will try to simulate our returns if this same strategy was applied at the past"
   ]
  },
  {
   "cell_type": "markdown",
   "id": "1e230220",
   "metadata": {},
   "source": [
    "## The first and most import thing to do is to select a time period to serve as train data where our model will learn the sequence distributions and a test data where our model will try to operate based on the learned distributions"
   ]
  },
  {
   "cell_type": "code",
   "execution_count": 240,
   "id": "7682a461",
   "metadata": {},
   "outputs": [],
   "source": [
    "def backtest(tickers, start_train, end_train, start_test, end_test, threshold=0.05):\n",
    "    \n",
    "    total_returns = []\n",
    "    \n",
    "    for ticker in tickers:\n",
    "\n",
    "        # Learns the sequences distribution with the train data\n",
    "\n",
    "        sequence_distribution, current_sequence = get_sequence_distribution(ticker=ticker,\n",
    "                                                                            start=start_train, end=end_train)\n",
    "        \n",
    "        _, summed_probabilities = continue_seq_prob(sequence_distribution, current_sequence)\n",
    "        \n",
    "        seq_threshold = (len(summed_probabilities) - np.where(summed_probabilities < threshold)[0])\n",
    "        \n",
    "        try:\n",
    "            seq_break = seq_threshold[-1]\n",
    "        except IndexError:\n",
    "            print(f'There is no sequence within the threshold probability for {ticker}. Try to increase the threshold.')\n",
    "            continue\n",
    "\n",
    "        # Predicts the test data based on the learned distribuitions \n",
    "        get_sequence_distribution(ticker=ticker, start=start_test, end=end_test)\n",
    "        data[f'Sign{seq_break}'] = data['Direction'].rolling(window=seq_break).sum()\n",
    "        \n",
    "        buy_op = data[data[f'Sign{seq_break}']== -seq_break] # When to go long (buy)\n",
    "        sell_op = data[data[f'Sign{seq_break}']== seq_break] # When to go short (sell)\n",
    "        buy_days = buy_op.index\n",
    "        sell_days = sell_op.index\n",
    "\n",
    "        # Sold Returns\n",
    "        sell_returns = []\n",
    "        for day in sell_days:\n",
    "            d = np.where(data.index==day)[0]\n",
    "            try:\n",
    "                r = data['Returns'][d+1][0]\n",
    "                r = -r # In a short position you earn when the market goes down\n",
    "                sell_returns.append(r)\n",
    "            except IndexError:\n",
    "                pass\n",
    "\n",
    "        # Bought Returns\n",
    "        buy_returns = []\n",
    "        for day in buy_days:\n",
    "            d = np.where(data.index==day)[0]\n",
    "            try:\n",
    "                r = data['Returns'][d+1][0]\n",
    "                buy_returns.append(r)\n",
    "            except IndexError:\n",
    "                pass\n",
    "\n",
    "        print(f'{ticker} Return = {round((sum(sell_returns) + sum(buy_returns))*100, 4)}%')\n",
    "        total_returns.append(sum(sell_returns) + sum(buy_returns))\n",
    "    return f'Total Return = {round(sum(total_returns)*100, 2)}%'"
   ]
  },
  {
   "cell_type": "code",
   "execution_count": 242,
   "id": "8cd68673",
   "metadata": {},
   "outputs": [],
   "source": [
    "random_tickers = random.sample(tickers, 20)"
   ]
  },
  {
   "cell_type": "code",
   "execution_count": 243,
   "id": "0751b798",
   "metadata": {},
   "outputs": [
    {
     "name": "stdout",
     "output_type": "stream",
     "text": [
      "SAPR4.SA Return = 2.7074%\n",
      "SULA11.SA Return = 2.8101%\n",
      "KLBN11.SA Return = 0.0737%\n",
      "BTOW3.SA Return = -12.9383%\n",
      "CSNA3.SA Return = -2.0666%\n",
      "FESA4.SA Return = 6.7637%\n",
      "EGIE3.SA Return = 0.5045%\n",
      "BKBR3.SA Return = 4.1761%\n",
      "SEQL3.SA Return = 0.2917%\n",
      "There is no sequence within the threshold probability for RRRP3.SA. Try to increase the threshold.\n",
      "WEGE3.SA Return = 4.3137%\n",
      "ECOR3.SA Return = 9.1864%\n",
      "TGMA3.SA Return = 0.4373%\n",
      "YDUQ3.SA Return = 7.2604%\n",
      "BBSE3.SA Return = 2.6989%\n",
      "ITUB4.SA Return = 1.1974%\n",
      "POSI3.SA Return = -9.637%\n",
      "ANIM3.SA Return = -7.3629%\n",
      "USIM5.SA Return = -14.2699%\n",
      "MYPK3.SA Return = -0.8542%\n"
     ]
    },
    {
     "data": {
      "text/plain": [
       "'Total Return = -4.71%'"
      ]
     },
     "execution_count": 243,
     "metadata": {},
     "output_type": "execute_result"
    }
   ],
   "source": [
    "backtest(random_tickers, start_train='01-01-2015', end_train='01-01-2021',\n",
    "         start_test='02-01-2021', end_test=date.today(), threshold=0.075)"
   ]
  },
  {
   "cell_type": "markdown",
   "id": "6728ba10",
   "metadata": {},
   "source": [
    "# Conclusion"
   ]
  },
  {
   "cell_type": "markdown",
   "id": "a163d7b9",
   "metadata": {},
   "source": [
    "### As we can see from the backtest result, there is no strong evidence that the sequence is a good predictor of the market movement. If we had found a strong positive value, we could infere that betting on the reverse of sequence was a good strategy. On the other hand, if we had a strong negative value we could infere that following the sequence trend was a good strategy. Since we have a value close to 0% of return in a portfolio, we can't assume the influence of any strategy based ONLY in the sequence."
   ]
  },
  {
   "cell_type": "markdown",
   "id": "c1c4f5d2",
   "metadata": {},
   "source": [
    "## Although there is no evidence for the influence of the sequence alone, maybe combined with some other signals the model could have a better performance. As Jim Simons said: \"if there was strong and simple signals in the market, everybody would trade based on them and therefore they would not exist anymore.\" "
   ]
  }
 ],
 "metadata": {
  "kernelspec": {
   "display_name": "Python 3",
   "language": "python",
   "name": "python3"
  },
  "language_info": {
   "codemirror_mode": {
    "name": "ipython",
    "version": 3
   },
   "file_extension": ".py",
   "mimetype": "text/x-python",
   "name": "python",
   "nbconvert_exporter": "python",
   "pygments_lexer": "ipython3",
   "version": "3.8.7"
  }
 },
 "nbformat": 4,
 "nbformat_minor": 5
}
